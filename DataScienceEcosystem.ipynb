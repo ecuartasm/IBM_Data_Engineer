{
 "cells": [
  {
   "cell_type": "markdown",
   "metadata": {},
   "source": [
    "<center>\n",
    "    <img src=\"https://cf-courses-data.s3.us.cloud-object-storage.appdomain.cloud/IBMDeveloperSkillsNetwork-DS0105EN-SkillsNetwork/labs/Module2/images/SN_web_lightmode.png\" width=\"300\" alt=\"cognitiveclass.ai logo\">\n",
    "</center>\n"
   ]
  },
  {
   "cell_type": "markdown",
   "metadata": {},
   "source": [
    "#### Add your code below following the instructions given in the course\n"
   ]
  },
  {
   "cell_type": "markdown",
   "metadata": {},
   "source": [
    "# Data Science Tools and Ecosystem"
   ]
  },
  {
   "attachments": {
    "693752b2-52bf-4eeb-b4c3-91f82e63f2fa.PNG": {
     "image/png": "[encoded data removed]"
    }
   },
   "cell_type": "markdown",
   "metadata": {},
   "source": [
    "![2-title.PNG](attachment:693752b2-52bf-4eeb-b4c3-91f82e63f2fa.PNG)"
   ]
  },
  {
   "cell_type": "markdown",
   "metadata": {},
   "source": [
    "## In this notebook, Data Science Tools and Ecosystem are summarized.\n"
   ]
  },
  {
   "cell_type": "markdown",
   "metadata": {},
   "source": [
    "### Some of the popular languages that Data Scientists use are:\n",
    "\n",
    "1. Python\n",
    "2. R\n",
    "3. SQL\n",
    "4. Java\n",
    "5. Scala\n",
    "6. Julia"
   ]
  },
  {
   "cell_type": "markdown",
   "metadata": {},
   "source": [
    "## Some of the commonly used libraries used by Data Scientists include:\n",
    "\n",
    "1. NumPy\n",
    "2. pandas\n",
    "3. Matplotlib\n",
    "4. seaborn\n",
    "5. scikit-learn\n",
    "6. TensorFlow\n",
    "7. PyTorch\n",
    "8. Keras\n",
    "9. SciPy\n",
    "10. Statsmodels\n",
    "11. NLTK (Natural Language Toolkit)"
   ]
  },
  {
   "cell_type": "markdown",
   "metadata": {},
   "source": [
    "## Data Science Tools\n",
    "\n",
    "| Tool                    | Description                                           |\n",
    "|-------------------------|-------------------------------------------------------|\n",
    "| Python                  | General-purpose programming language                   |\n",
    "| R                       | Statistical computing and graphics language            |\n",
    "| Jupyter Notebooks       | Interactive computing environment                      |\n",
    "| RStudio                 | Integrated development environment for R               |\n",
    "| Anaconda                | Distribution of Python and R with data science packages|\n",
    "| TensorFlow              | Deep learning framework developed by Google            |\n",
    "| PyTorch                 | Deep learning framework developed by Facebook AI       |\n",
    "| NumPy                   | Numerical computing library for Python                 |\n",
    "| pandas                  | Data manipulation and analysis library for Python      |\n",
    "| Matplotlib              | Data visualization library for Python                  |\n",
    "| seaborn                 | Statistical data visualization library for Python      |\n",
    "| Keras                   | High-level deep learning library (runs on TensorFlow)  |\n",
    "| SQL                     | Structured Query Language for managing databases       |\n",
    "| Apache Spark            | Distributed computing framework for big data processing|\n",
    "| Hadoop                  | Distributed storage and processing framework for big data|\n",
    "\n"
   ]
  },
  {
   "cell_type": "markdown",
   "metadata": {},
   "source": [
    "## Below are a few examples of evaluating arithmetic expressions in Python\n",
    "\n",
    "x = 5\n",
    "y = 3\n",
    "result = x * y\n",
    "print(result)  # Output: 15"
   ]
  },
  {
   "cell_type": "code",
   "execution_count": 1,
   "metadata": {
    "tags": []
   },
   "outputs": [
    {
     "data": {
      "text/plain": [
       "17"
      ]
     },
     "execution_count": 1,
     "metadata": {},
     "output_type": "execute_result"
    }
   ],
   "source": [
    "# This a simple arithmetic expression to mutiply then add integers\n",
    "(3*4)+5"
   ]
  },
  {
   "cell_type": "code",
   "execution_count": 4,
   "metadata": {
    "tags": []
   },
   "outputs": [
    {
     "name": "stdin",
     "output_type": "stream",
     "text": [
      "Write the amount of minutes:  200\n"
     ]
    },
    {
     "name": "stdout",
     "output_type": "stream",
     "text": [
      "The number fo hours is = 3.3333333333333335\n"
     ]
    }
   ],
   "source": [
    "# This will convert minutes to hours by diving by 60\n",
    "\n",
    "min = float(input(\"Write the amount of minutes: \"))\n",
    "hours = min/60.0\n",
    "print(\"The number of hours is = \" + str(hours))"
   ]
  },
  {
   "cell_type": "markdown",
   "metadata": {},
   "source": [
    "## __Objectives:__\n",
    "\n",
    "* Identify the criteria and roles for determining the language to learn.\n",
    "* Identify the users and benefits of Python.\n",
    "* Identify the users and uses of the R language.\n",
    "* Define SQL elements and list their benefits.\n",
    "* Review languages such as Java, Scala, C++, JavaScript, and Julia.\n",
    "* List the global communities for connecting with other users.\n"
   ]
  },
  {
   "cell_type": "markdown",
   "metadata": {},
   "source": [
    "## Author: Ernesto Cuartas"
   ]
  },
  {
   "cell_type": "code",
   "execution_count": null,
   "metadata": {},
   "outputs": [],
   "source": []
  }
 ],
 "metadata": {
  "kernelspec": {
   "display_name": "Python",
   "language": "python",
   "name": "conda-env-python-py"
  },
  "language_info": {
   "codemirror_mode": {
    "name": "ipython",
    "version": 3
   },
   "file_extension": ".py",
   "mimetype": "text/x-python",
   "name": "python",
   "nbconvert_exporter": "python",
   "pygments_lexer": "ipython3",
   "version": "3.7.12"
  }
 },
 "nbformat": 4,
 "nbformat_minor": 4
}
